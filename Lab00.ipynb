{
  "cells": [
    {
      "cell_type": "markdown",
      "metadata": {
        "id": "jIwFC684qstO"
      },
      "source": [
        "<a href=\"https://colab.research.google.com/github/LMU-CMSI-1010/lab-notebooks-original/blob/main/Lab00.ipynb\" target=\"_parent\"><img src=\"https://colab.research.google.com/assets/colab-badge.svg\" alt=\"Open In Colab\"/></a>"
      ]
    },
    {
      "cell_type": "markdown",
      "metadata": {
        "id": "9aXfrLXg9seM"
      },
      "source": [
        "# Lab 00 Programming Environment\n",
        "***\n",
        "In this lab we will help you check that your programming enviroment is set up correctly. We will also make sure that you can write and run code in a laboratory notebook. We will also make sure that you can save your work to GitHub from your lab notebook."
      ]
    },
    {
      "cell_type": "markdown",
      "metadata": {
        "id": "hr1YFqboGVCm"
      },
      "source": [
        "## Using this Jupyter Notebook\n",
        "For labs during class you will use Jupyter notebooks such as this one. Jupyter notebooks have the file extension _.ipynb_ at the end. You can open, run, and edit Jupyter notebooks in Google Colaboratory as we are doing now and will do for every lab. Jupyter notebooks provide online environment that supports these cells for text and other cells for writing code, like the next one below. In the following cell, write a one line program that prints `Hello World!!!`. Then press the arrow next to the cell to run the code. You will see the results right below the cell."
      ]
    },
    {
      "cell_type": "code",
      "execution_count": 4,
      "metadata": {
        "colab": {
          "base_uri": "https://localhost:8080/"
        },
        "id": "VA0C-y1O9seO",
        "outputId": "ac998501-ad0c-4397-c2cc-97f71deff737"
      },
      "outputs": [
        {
          "output_type": "stream",
          "name": "stdout",
          "text": [
            "Hello World!!\n"
          ]
        }
      ],
      "source": [
        "# Write the same program as you wrote in the terminal for Hello World!!!\n",
        "# You can write comments by putting the symbol at the start of the line to turn the entire line into a comment\n",
        "\"\"\"\n",
        "You can write comments on multiple lines by placing the text between the lines of quotation marks. This cell does nothing now until you write some code below...\n",
        "\"\"\"\n",
        "print(\"Hello World!!\")\n",
        "\n",
        "\n",
        "\n"
      ]
    },
    {
      "cell_type": "code",
      "source": [
        "#this is my new cell\n",
        "#Reflections\n",
        "print(\"I don't feel necessary more confident in my skills, but after the lab I feel a lot more interested in CMSI\")\n",
        "print(\"I feel like I need to get more comfortable with the interface still.\")\n",
        "print(\"I think this lab was a nice introduction to everything.\")"
      ],
      "metadata": {
        "id": "RIcMGKr1tbyr",
        "outputId": "d503d658-6e3b-4245-a2eb-b2d5d604ad43",
        "colab": {
          "base_uri": "https://localhost:8080/"
        }
      },
      "execution_count": 5,
      "outputs": [
        {
          "output_type": "stream",
          "name": "stdout",
          "text": [
            "I don't feel necessary more confident in my skills, but after the lab I feel a lot more interested in CMSI\n"
          ]
        }
      ]
    },
    {
      "cell_type": "markdown",
      "metadata": {
        "id": "uik2FUei__qM"
      },
      "source": [
        "Now it's your turn to change this notebook. Below this cell, add a text cell by clicking on the '+Text' button at the top of this notebook. You can add whatever text you would like. Then below that cell, add a cell of code by clicking the '+Code' button at the top of this notebook. Write code to print your name in that cell and run the code."
      ]
    },
    {
      "cell_type": "markdown",
      "metadata": {
        "id": "ey2QzqWR9seO"
      },
      "source": [
        "---\n",
        "# Using GitHub\n",
        "\n",
        "There are several ways that we can use GitHub, but for now we will work on using it through the web browser.\n",
        "\n",
        "## Using GitHub with Google Colaboratory\n",
        "First, log into github.com using the GitHub account that you are using for this class if you have not done so already. Among your repositories you should see a repository named **lab-notebooks-MY_GITHUB_ID**. It will be empty, but we will change that now. Before we add the file to the repo, go to https://colab.research.google.com/ and check the box on the GitHub tab for including private repos. Now go to the _File menu_ above on this notebook and select _Save to GitHub_. From the menu select your 1010-lab-notebooks repository. (Remember to make sure private repositories are permitted.) Once you have saved this notebook using the file menu, click on your `lab-notebook` in GitHub and you should see a copy of this file."
      ]
    },
    {
      "cell_type": "markdown",
      "metadata": {
        "id": "dKL0LYd-E4JB"
      },
      "source": [
        "### Reflections\n",
        "Add a text cell below to answer the following questions:\n",
        "1. What do you feel more confident about after completing this lab?\n",
        "2. What do you feel you can use more help with after completing this lab?\n",
        "3. Do you have any constructive suggestions on how we can help you or improve this lab?"
      ]
    },
    {
      "cell_type": "markdown",
      "metadata": {
        "id": "gB1aHDpyFYey"
      },
      "source": [
        "### Save your work to GitHub\n",
        "A great mantra for working with GitHub is \"Save early, and save often!\" You may want to do that working on your homework assignments as GitHub will have copies of your work regardless of what happens locally. It is also helpful during labs. Please save this notebook to your lab repository one more time."
      ]
    },
    {
      "cell_type": "code",
      "execution_count": null,
      "metadata": {
        "id": "EK1S5nagqstW"
      },
      "outputs": [],
      "source": [
        ""
      ]
    }
  ],
  "metadata": {
    "kernelspec": {
      "display_name": "Python 3",
      "language": "python",
      "name": "python3"
    },
    "language_info": {
      "codemirror_mode": {
        "name": "ipython",
        "version": 3
      },
      "file_extension": ".py",
      "mimetype": "text/x-python",
      "name": "python",
      "nbconvert_exporter": "python",
      "pygments_lexer": "ipython3",
      "version": "3.8.5"
    },
    "colab": {
      "name": "Lab00.ipynb",
      "provenance": []
    }
  },
  "nbformat": 4,
  "nbformat_minor": 0
}